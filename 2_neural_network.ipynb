{
 "cells": [
  {
   "cell_type": "code",
   "execution_count": 108,
   "metadata": {},
   "outputs": [],
   "source": [
    "import pandas as pd\n",
    "import matplotlib.pyplot as plt\n",
    "import numpy as np\n",
    "import seaborn as sns\n",
    "import torch\n",
    "import torch.nn as nn\n",
    "import torch.utils.data as td\n",
    "from sklearn.model_selection import train_test_split\n",
    "from sklearn.metrics import classification_report, confusion_matrix\n",
    "\n",
    "torch.manual_seed(0)\n",
    "data_path = 'content'\n",
    "version = 2"
   ]
  },
  {
   "cell_type": "code",
   "execution_count": 116,
   "metadata": {},
   "outputs": [],
   "source": [
    "df = pd.read_csv(f'{data_path}/data.csv')"
   ]
  },
  {
   "cell_type": "code",
   "execution_count": 117,
   "metadata": {},
   "outputs": [
    {
     "data": {
      "text/html": [
       "<div>\n",
       "<style scoped>\n",
       "    .dataframe tbody tr th:only-of-type {\n",
       "        vertical-align: middle;\n",
       "    }\n",
       "\n",
       "    .dataframe tbody tr th {\n",
       "        vertical-align: top;\n",
       "    }\n",
       "\n",
       "    .dataframe thead th {\n",
       "        text-align: right;\n",
       "    }\n",
       "</style>\n",
       "<table border=\"1\" class=\"dataframe\">\n",
       "  <thead>\n",
       "    <tr style=\"text-align: right;\">\n",
       "      <th></th>\n",
       "      <th>CO</th>\n",
       "      <th>NO2</th>\n",
       "      <th>Population_Density</th>\n",
       "      <th>Proximity_to_Industrial_Areas</th>\n",
       "      <th>Temperature</th>\n",
       "      <th>Air Quality</th>\n",
       "    </tr>\n",
       "  </thead>\n",
       "  <tbody>\n",
       "    <tr>\n",
       "      <th>0</th>\n",
       "      <td>1.72</td>\n",
       "      <td>18.9</td>\n",
       "      <td>319</td>\n",
       "      <td>6.3</td>\n",
       "      <td>29.8</td>\n",
       "      <td>1</td>\n",
       "    </tr>\n",
       "    <tr>\n",
       "      <th>1</th>\n",
       "      <td>1.64</td>\n",
       "      <td>30.8</td>\n",
       "      <td>611</td>\n",
       "      <td>6.0</td>\n",
       "      <td>28.3</td>\n",
       "      <td>1</td>\n",
       "    </tr>\n",
       "    <tr>\n",
       "      <th>2</th>\n",
       "      <td>1.63</td>\n",
       "      <td>24.4</td>\n",
       "      <td>619</td>\n",
       "      <td>5.2</td>\n",
       "      <td>23.1</td>\n",
       "      <td>1</td>\n",
       "    </tr>\n",
       "    <tr>\n",
       "      <th>3</th>\n",
       "      <td>1.15</td>\n",
       "      <td>13.5</td>\n",
       "      <td>551</td>\n",
       "      <td>11.1</td>\n",
       "      <td>27.1</td>\n",
       "      <td>0</td>\n",
       "    </tr>\n",
       "    <tr>\n",
       "      <th>4</th>\n",
       "      <td>1.01</td>\n",
       "      <td>21.9</td>\n",
       "      <td>303</td>\n",
       "      <td>12.7</td>\n",
       "      <td>26.5</td>\n",
       "      <td>0</td>\n",
       "    </tr>\n",
       "  </tbody>\n",
       "</table>\n",
       "</div>"
      ],
      "text/plain": [
       "     CO   NO2  Population_Density  Proximity_to_Industrial_Areas  Temperature  \\\n",
       "0  1.72  18.9                 319                            6.3         29.8   \n",
       "1  1.64  30.8                 611                            6.0         28.3   \n",
       "2  1.63  24.4                 619                            5.2         23.1   \n",
       "3  1.15  13.5                 551                           11.1         27.1   \n",
       "4  1.01  21.9                 303                           12.7         26.5   \n",
       "\n",
       "   Air Quality  \n",
       "0            1  \n",
       "1            1  \n",
       "2            1  \n",
       "3            0  \n",
       "4            0  "
      ]
     },
     "execution_count": 117,
     "metadata": {},
     "output_type": "execute_result"
    }
   ],
   "source": [
    "target = 'Air Quality'\n",
    "features = ['CO', 'NO2', 'Population_Density', 'Proximity_to_Industrial_Areas', 'Temperature']\n",
    "\n",
    "dict = { key : value for value, key in enumerate(df['Air Quality'].value_counts().index)}\n",
    "df[target] = df['Air Quality'].map(dict)\n",
    "df = df[features + [target]]\n",
    "df.head()"
   ]
  },
  {
   "cell_type": "code",
   "execution_count": 118,
   "metadata": {},
   "outputs": [
    {
     "name": "stderr",
     "output_type": "stream",
     "text": [
      "/var/folders/10/vcvbnp396238kmcwww0pldcc0000gn/T/ipykernel_2050/2767821176.py:2: FutureWarning: Setting an item of incompatible dtype is deprecated and will raise in a future error of pandas. Value '0       0.333333\n",
      "1       0.638454\n",
      "2       0.646813\n",
      "3       0.575758\n",
      "4       0.316614\n",
      "          ...   \n",
      "4995    0.799373\n",
      "4996    0.740857\n",
      "4997    0.396029\n",
      "4998    0.251829\n",
      "4999    0.481714\n",
      "Name: Population_Density, Length: 5000, dtype: float64' has dtype incompatible with int64, please explicitly cast to a compatible dtype first.\n",
      "  df.iloc[:, :-1] = df.iloc[:, :-1] / max_values\n"
     ]
    }
   ],
   "source": [
    "max_values = df.drop(columns=[target]).max()  \n",
    "df.iloc[:, :-1] = df.iloc[:, :-1] / max_values"
   ]
  },
  {
   "cell_type": "code",
   "execution_count": 119,
   "metadata": {},
   "outputs": [],
   "source": [
    "x_train, x_test, y_train, y_test = train_test_split(df[features].values,\n",
    "                                                    df[target].values,\n",
    "                                                    test_size=0.20,\n",
    "                                                    random_state=0,\n",
    "                                                    stratify=df[target])\n"
   ]
  },
  {
   "cell_type": "code",
   "execution_count": 137,
   "metadata": {},
   "outputs": [],
   "source": [
    "class AirQualityNet(torch.nn.Module):\n",
    "    def __init__(self):\n",
    "        super(AirQualityNet, self).__init__()\n",
    "        self.fc1 = torch.nn.Linear(5, 10)\n",
    "        self.fc2 = torch.nn.Linear(10, 10)\n",
    "        self.fc3 = torch.nn.Linear(10, 10)\n",
    "        self.fc4 = torch.nn.Linear(10, 4)\n",
    "        \n",
    "    def forward(self, x):\n",
    "        x = torch.relu(self.fc1(x))\n",
    "        x = torch.relu(self.fc2(x))\n",
    "        x = torch.relu(self.fc3(x))\n",
    "        x = self.fc4(x)\n",
    "        return x\n",
    "    \n",
    "    def predict(self, x):\n",
    "        x = self.forward(x)\n",
    "        return torch.argmax(x, dim=1)"
   ]
  },
  {
   "cell_type": "code",
   "execution_count": 138,
   "metadata": {},
   "outputs": [],
   "source": [
    "def train(model, data_loader, optimizer, loss_criteria):\n",
    "    model.train()\n",
    "    train_loss = 0\n",
    "    \n",
    "    for batch, tensor in enumerate(data_loader):\n",
    "        data, _target = tensor\n",
    "        optimizer.zero_grad()\n",
    "        \n",
    "        out = model(data)\n",
    "        loss = loss_criteria(out, _target)  # Ensure _target is integer labels\n",
    "        train_loss += loss.item()\n",
    "\n",
    "        loss.backward()\n",
    "        optimizer.step()\n",
    "\n",
    "    avg_loss = train_loss / (batch + 1)\n",
    "    print(f'Training set: Average loss: {avg_loss:.6f}')\n",
    "    return avg_loss\n",
    "\n",
    "def test(model, data_loader, loss_criteria):\n",
    "    model.eval()\n",
    "    test_loss = 0\n",
    "    correct = 0\n",
    "\n",
    "    with torch.no_grad():\n",
    "        batch_count = 0\n",
    "        for batch, tensor in enumerate(data_loader):\n",
    "            batch_count += 1\n",
    "            data, _target = tensor\n",
    "            \n",
    "            out = model(data)\n",
    "            test_loss += loss_criteria(out, _target).item()\n",
    "\n",
    "            predicted = torch.argmax(out, dim=1)  # Multi-class prediction\n",
    "            correct += (predicted == _target).sum().item()\n",
    "            \n",
    "    avg_loss = test_loss / batch_count\n",
    "    accuracy = 100. * correct / len(data_loader.dataset)\n",
    "    \n",
    "    print(f'Validation set: Average loss: {avg_loss:.6f}, Accuracy: {correct}/{len(data_loader.dataset)} ({accuracy:.2f}%)\\n')\n",
    "    return avg_loss"
   ]
  },
  {
   "cell_type": "code",
   "execution_count": 139,
   "metadata": {},
   "outputs": [],
   "source": [
    "train_x = torch.tensor(x_train, dtype=torch.float32)\n",
    "train_y = torch.tensor(y_train, dtype=torch.int64)\n",
    "\n",
    "# Create dataset and dataloader\n",
    "train_ds = td.TensorDataset(train_x, train_y)\n",
    "train_loader = td.DataLoader(train_ds, batch_size=10, shuffle=True, num_workers=1)\n",
    "\n",
    "# Convert x_test and y_test to tensors\n",
    "test_x = torch.tensor(x_test, dtype=torch.float32)\n",
    "test_y = torch.tensor(y_test, dtype=torch.int64)\n",
    "\n",
    "# Create dataset and dataloader\n",
    "test_ds = td.TensorDataset(test_x, test_y)\n",
    "test_loader = td.DataLoader(test_ds, batch_size=10, shuffle=False, num_workers=1)\n"
   ]
  },
  {
   "cell_type": "code",
   "execution_count": 140,
   "metadata": {},
   "outputs": [
    {
     "data": {
      "text/plain": [
       "AirQualityNet(\n",
       "  (fc1): Linear(in_features=5, out_features=10, bias=True)\n",
       "  (fc2): Linear(in_features=10, out_features=10, bias=True)\n",
       "  (fc3): Linear(in_features=10, out_features=10, bias=True)\n",
       "  (fc4): Linear(in_features=10, out_features=4, bias=True)\n",
       ")"
      ]
     },
     "execution_count": 140,
     "metadata": {},
     "output_type": "execute_result"
    }
   ],
   "source": [
    "model = AirQualityNet()\n",
    "model"
   ]
  },
  {
   "cell_type": "code",
   "execution_count": 141,
   "metadata": {},
   "outputs": [
    {
     "name": "stdout",
     "output_type": "stream",
     "text": [
      "Epoch: 1\n",
      "Training set: Average loss: 1.288664\n",
      "Validation set: Average loss: 1.091296, Accuracy: 400/1000 (40.00%)\n",
      "\n",
      "Epoch: 2\n",
      "Training set: Average loss: 0.827575\n",
      "Validation set: Average loss: 0.618440, Accuracy: 811/1000 (81.10%)\n",
      "\n",
      "Epoch: 3\n",
      "Training set: Average loss: 0.515612\n",
      "Validation set: Average loss: 0.429991, Accuracy: 845/1000 (84.50%)\n",
      "\n",
      "Epoch: 4\n",
      "Training set: Average loss: 0.391458\n",
      "Validation set: Average loss: 0.358110, Accuracy: 847/1000 (84.70%)\n",
      "\n",
      "Epoch: 5\n",
      "Training set: Average loss: 0.333209\n",
      "Validation set: Average loss: 0.325444, Accuracy: 905/1000 (90.50%)\n",
      "\n",
      "Epoch: 6\n",
      "Training set: Average loss: 0.295742\n",
      "Validation set: Average loss: 0.288737, Accuracy: 919/1000 (91.90%)\n",
      "\n",
      "Epoch: 7\n",
      "Training set: Average loss: 0.274067\n",
      "Validation set: Average loss: 0.266765, Accuracy: 922/1000 (92.20%)\n",
      "\n",
      "Epoch: 8\n",
      "Training set: Average loss: 0.259461\n",
      "Validation set: Average loss: 0.259295, Accuracy: 919/1000 (91.90%)\n",
      "\n",
      "Epoch: 9\n",
      "Training set: Average loss: 0.249423\n",
      "Validation set: Average loss: 0.251851, Accuracy: 914/1000 (91.40%)\n",
      "\n",
      "Epoch: 10\n",
      "Training set: Average loss: 0.243714\n",
      "Validation set: Average loss: 0.251153, Accuracy: 919/1000 (91.90%)\n",
      "\n",
      "Epoch: 11\n",
      "Training set: Average loss: 0.238141\n",
      "Validation set: Average loss: 0.248690, Accuracy: 915/1000 (91.50%)\n",
      "\n",
      "Epoch: 12\n",
      "Training set: Average loss: 0.233731\n",
      "Validation set: Average loss: 0.243787, Accuracy: 916/1000 (91.60%)\n",
      "\n",
      "Epoch: 13\n",
      "Training set: Average loss: 0.233154\n",
      "Validation set: Average loss: 0.244176, Accuracy: 914/1000 (91.40%)\n",
      "\n",
      "Epoch: 14\n",
      "Training set: Average loss: 0.229297\n",
      "Validation set: Average loss: 0.235363, Accuracy: 921/1000 (92.10%)\n",
      "\n",
      "Epoch: 15\n",
      "Training set: Average loss: 0.228288\n",
      "Validation set: Average loss: 0.235992, Accuracy: 925/1000 (92.50%)\n",
      "\n",
      "Epoch: 16\n",
      "Training set: Average loss: 0.227106\n",
      "Validation set: Average loss: 0.234467, Accuracy: 919/1000 (91.90%)\n",
      "\n",
      "Epoch: 17\n",
      "Training set: Average loss: 0.226996\n",
      "Validation set: Average loss: 0.247626, Accuracy: 916/1000 (91.60%)\n",
      "\n",
      "Epoch: 18\n",
      "Training set: Average loss: 0.226100\n",
      "Validation set: Average loss: 0.231133, Accuracy: 919/1000 (91.90%)\n",
      "\n",
      "Epoch: 19\n",
      "Training set: Average loss: 0.224765\n",
      "Validation set: Average loss: 0.237971, Accuracy: 910/1000 (91.00%)\n",
      "\n",
      "Epoch: 20\n",
      "Training set: Average loss: 0.223398\n",
      "Validation set: Average loss: 0.245030, Accuracy: 908/1000 (90.80%)\n",
      "\n"
     ]
    }
   ],
   "source": [
    "learning_rate = 0.001\n",
    "optimizer = torch.optim.Adam(model.parameters(), lr=learning_rate)\n",
    "loss_criteria = nn.CrossEntropyLoss()\n",
    "\n",
    "epochs = 20\n",
    "for epoch in range(1, epochs + 1):\n",
    "    print(f'Epoch: {epoch}')\n",
    "    train_loss = train(model, train_loader, optimizer, loss_criteria)\n",
    "    test_loss = test(model, test_loader, loss_criteria)"
   ]
  },
  {
   "cell_type": "code",
   "execution_count": 127,
   "metadata": {},
   "outputs": [],
   "source": [
    "acc = 91\n",
    "model_file = f'air_quality_v{version}_acc_{acc}.pt'\n",
    "torch.save(model.state_dict(), model_file)"
   ]
  },
  {
   "cell_type": "code",
   "execution_count": 128,
   "metadata": {},
   "outputs": [
    {
     "data": {
      "text/plain": [
       "<All keys matched successfully>"
      ]
     },
     "execution_count": 128,
     "metadata": {},
     "output_type": "execute_result"
    }
   ],
   "source": [
    "del model\n",
    "model = AirQualityNet()\n",
    "model.load_state_dict(torch.load(model_file))"
   ]
  },
  {
   "cell_type": "code",
   "execution_count": 129,
   "metadata": {},
   "outputs": [],
   "source": [
    "def evaluate_model(model, test_loader):\n",
    "    model.eval()\n",
    "    all_preds = []\n",
    "    all_targets = []\n",
    "\n",
    "    with torch.no_grad():\n",
    "        for data, target in test_loader:\n",
    "            out = model(data)\n",
    "            preds = torch.argmax(out, dim=1)  # Get predicted class\n",
    "            \n",
    "            all_preds.extend(preds.cpu().numpy())  \n",
    "            all_targets.extend(target.cpu().numpy())  \n",
    "\n",
    "    return all_preds, all_targets\n",
    "\n",
    "preds, true_labels = evaluate_model(model, test_loader)"
   ]
  },
  {
   "cell_type": "code",
   "execution_count": 130,
   "metadata": {},
   "outputs": [
    {
     "data": {
      "image/png": "[encoded data removed]",
      "text/plain": [
       "<Figure size 800x600 with 2 Axes>"
      ]
     },
     "metadata": {},
     "output_type": "display_data"
    },
    {
     "data": {
      "image/png": "[encoded data removed]",
      "text/plain": [
       "<Figure size 800x600 with 2 Axes>"
      ]
     },
     "metadata": {},
     "output_type": "display_data"
    }
   ],
   "source": [
    "def plot_confusion_matrix(true_labels, preds, class_names):\n",
    "    cm = confusion_matrix(true_labels, preds)\n",
    "    plt.figure(figsize=(8,6))\n",
    "    \n",
    "    sns.heatmap(cm, annot=True, fmt='d', cmap='Blues', xticklabels=class_names, yticklabels=class_names)\n",
    "    plt.xlabel('Predicted Label')\n",
    "    plt.ylabel('True Label')\n",
    "    plt.title('Confusion Matrix')\n",
    "    plt.show()\n",
    "\n",
    "# Function to visualize classification report as a heatmap\n",
    "def plot_classification_report(true_labels, preds, class_names):\n",
    "    report = classification_report(true_labels, preds, output_dict=True)\n",
    "    df_report = pd.DataFrame(report).transpose()\n",
    "\n",
    "    plt.figure(figsize=(8,6))\n",
    "    sns.heatmap(df_report.iloc[:-1, :-1], annot=True, cmap='coolwarm', linewidths=1, fmt=\".2f\")\n",
    "    plt.title(\"Classification Report Heatmap\")\n",
    "    plt.show()\n",
    "\n",
    "# Run evaluation\n",
    "\n",
    "preds, true_labels = evaluate_model(model, test_loader)\n",
    "\n",
    "# Plot confusion matrix\n",
    "plot_confusion_matrix(true_labels, preds, dict.keys())\n",
    "\n",
    "# Plot classification report\n",
    "plot_classification_report(true_labels, preds, dict.keys())\n"
   ]
  }
 ],
 "metadata": {
  "kernelspec": {
   "display_name": "venv",
   "language": "python",
   "name": "python3"
  },
  "language_info": {
   "codemirror_mode": {
    "name": "ipython",
    "version": 3
   },
   "file_extension": ".py",
   "mimetype": "text/x-python",
   "name": "python",
   "nbconvert_exporter": "python",
   "pygments_lexer": "ipython3",
   "version": "3.12.4"
  }
 },
 "nbformat": 4,
 "nbformat_minor": 2
}
