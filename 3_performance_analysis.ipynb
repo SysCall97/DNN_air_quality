{
 "cells": [
  {
   "cell_type": "code",
   "execution_count": 21,
   "metadata": {},
   "outputs": [],
   "source": [
    "import torch\n",
    "import coremltools as ct"
   ]
  },
  {
   "cell_type": "code",
   "execution_count": 22,
   "metadata": {},
   "outputs": [],
   "source": [
    "class AirQualityNet(torch.nn.Module):\n",
    "    def __init__(self):\n",
    "        super(AirQualityNet, self).__init__()\n",
    "        self.fc1 = torch.nn.Linear(5, 10)\n",
    "        self.fc2 = torch.nn.Linear(10, 10)\n",
    "        self.fc3 = torch.nn.Linear(10, 10)\n",
    "        self.fc4 = torch.nn.Linear(10, 4)\n",
    "        \n",
    "    def forward(self, x):\n",
    "        x = torch.relu(self.fc1(x))\n",
    "        x = torch.relu(self.fc2(x))\n",
    "        x = torch.relu(self.fc3(x))\n",
    "        x = self.fc4(x)\n",
    "        return x\n",
    "    \n",
    "    def predict(self, x):\n",
    "        x = self.forward(x)\n",
    "        return torch.argmax(x, dim=1)"
   ]
  },
  {
   "cell_type": "code",
   "execution_count": 23,
   "metadata": {},
   "outputs": [
    {
     "data": {
      "text/plain": [
       "AirQualityNet(\n",
       "  (fc1): Linear(in_features=5, out_features=10, bias=True)\n",
       "  (fc2): Linear(in_features=10, out_features=10, bias=True)\n",
       "  (fc3): Linear(in_features=10, out_features=10, bias=True)\n",
       "  (fc4): Linear(in_features=10, out_features=4, bias=True)\n",
       ")"
      ]
     },
     "execution_count": 23,
     "metadata": {},
     "output_type": "execute_result"
    }
   ],
   "source": [
    "version = 3\n",
    "acc = 96\n",
    "model_file = f'air_quality_v{version}_acc_{acc}.pt'\n",
    "model = AirQualityNet()\n",
    "model.load_state_dict(torch.load(model_file))\n",
    "model.eval()"
   ]
  },
  {
   "cell_type": "code",
   "execution_count": 24,
   "metadata": {},
   "outputs": [],
   "source": [
    "example_input = torch.tensor([[1.0, 2.0, 3.0, 4.0, 5.0]])  \n",
    "traced_model = torch.jit.trace(model, example_input)"
   ]
  },
  {
   "cell_type": "code",
   "execution_count": 25,
   "metadata": {},
   "outputs": [
    {
     "name": "stderr",
     "output_type": "stream",
     "text": [
      "When both 'convert_to' and 'minimum_deployment_target' not specified, 'convert_to' is set to \"mlprogram\" and 'minimum_deployment_target' is set to ct.target.iOS15 (which is same as ct.target.macOS12). Note: the model will not run on systems older than iOS15/macOS12/watchOS8/tvOS15. In order to make your model run on older system, please set the 'minimum_deployment_target' to iOS14/iOS13. Details please see the link: https://apple.github.io/coremltools/docs-guides/source/target-conversion-formats.html\n",
      "Converting PyTorch Frontend ==> MIL Ops:  86%|████████▌ | 6/7 [00:00<00:00, 5142.18 ops/s]\n",
      "Running MIL frontend_pytorch pipeline: 100%|██████████| 5/5 [00:00<00:00, 4207.77 passes/s]\n",
      "Running MIL default pipeline: 100%|██████████| 89/89 [00:00<00:00, 3630.16 passes/s]\n",
      "Running MIL backend_mlprogram pipeline: 100%|██████████| 12/12 [00:00<00:00, 8192.00 passes/s]\n"
     ]
    }
   ],
   "source": [
    "model_from_torch = ct.convert(traced_model,\n",
    "\t\t\t\t\t\t\t  inputs=[ct.TensorType(name=\"input\", \n",
    "\t\t\t\t\t\t\t\t\t\t\t\t\tshape=example_input.shape)])\n",
    "\n",
    "# mlmodel = ct.convert(traced_model, inputs=[ct.TensorType(shape=example_input.shape)])\n",
    "\n",
    "# Save the model\n",
    "model_from_torch.save(f\"air_quality_v{version}_acc_{acc}.mlpackage\")"
   ]
  },
  {
   "cell_type": "code",
   "execution_count": null,
   "metadata": {},
   "outputs": [],
   "source": []
  },
  {
   "cell_type": "code",
   "execution_count": null,
   "metadata": {},
   "outputs": [],
   "source": []
  }
 ],
 "metadata": {
  "kernelspec": {
   "display_name": "venv",
   "language": "python",
   "name": "python3"
  },
  "language_info": {
   "codemirror_mode": {
    "name": "ipython",
    "version": 3
   },
   "file_extension": ".py",
   "mimetype": "text/x-python",
   "name": "python",
   "nbconvert_exporter": "python",
   "pygments_lexer": "ipython3",
   "version": "3.12.4"
  }
 },
 "nbformat": 4,
 "nbformat_minor": 2
}
